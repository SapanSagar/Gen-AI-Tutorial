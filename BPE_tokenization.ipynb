{
 "cells": [
  {
   "cell_type": "code",
   "execution_count": 1,
   "metadata": {},
   "outputs": [
    {
     "name": "stdout",
     "output_type": "stream",
     "text": [
      "Collecting PyMuPDF\n",
      "  Downloading pymupdf-1.25.3-cp39-abi3-win_amd64.whl (16.5 MB)\n",
      "     ---------------------------------------- 16.5/16.5 MB 3.6 MB/s eta 0:00:00\n",
      "Installing collected packages: PyMuPDF\n",
      "Successfully installed PyMuPDF-1.25.3\n"
     ]
    }
   ],
   "source": [
    "!pip install PyMuPDF"
   ]
  },
  {
   "cell_type": "code",
   "execution_count": 3,
   "metadata": {},
   "outputs": [
    {
     "name": "stdout",
     "output_type": "stream",
     "text": [
      "1\n",
      "The Verdict\n",
      "Edith Wharton\n",
      "1908\n",
      "Exported from Wikisource on May 20, 2024\n",
      "2\n",
      "I HAD always thought Jack Gisburn rather a cheap genius--\n",
      "though a\n",
      "good fellow enough--so it was no great surprise to\n",
      "me to hear that,\n",
      "in the height of his glory, he had dropped\n",
      "his painting, married a\n",
      "rich widow, and established himself\n",
      "in a villa on the Riviera.\n",
      "(Though I rather thought it would\n",
      "have been Rome or Florence.)\n",
      "\"The height of his glory\"--that was what the women called\n",
      "it. I can\n",
      "hear Mrs. Gideon Thwing--his last Chicago sitter--\n",
      "deploring his\n",
      " unaccountable abdication. \"Of course it's\n",
      "going to send the value of\n",
      "my picture 'way up; but I don't\n",
      "think of that, Mr. Rickham--the loss\n",
      "to Arrt is all I think of.\"\n",
      "The word, on Mrs. Thwing's lips,\n",
      " multiplied its _rs_ as\n",
      "though they were reflected in an endless\n",
      "vista of mirrors.\n",
      "And it was not only the Mrs. Thwings who mourned.\n",
      "Had\n",
      "not the exquisite Hermia Croft, at the last Grafton Gallery\n",
      "show, stopped me before Gisburn's \"Moon-dancers\" to say,\n",
      "with tears\n",
      " in her eyes: \"We shall not look upon its like\n",
      "again\"?\n",
      "Well!--even through the prism of Hermia's tears I felt able\n",
      "to face\n",
      " the fact with equanimity. Poor Jack Gisburn! The\n",
      "women had made\n",
      "him--it was fitting that they should mourn\n",
      "him. Among his own sex\n",
      "fewer regrets were heard, and in\n",
      "his own trade hardly a murmur.\n",
      " Professional jealousy?\n",
      "Perhaps. If it were, the honour of the craft\n",
      "was vindicated\n",
      "by little Claude Nutley, who, in all good faith,\n",
      "brought out\n",
      "in the Burlington a very handsome \"obituary\" on\n",
      "Jack--one\n",
      "3\n",
      "of those showy articles stocked with random technicalities\n",
      "that I have heard (I won't say by whom) compared to\n",
      "Gisburn's\n",
      " painting. And so--his resolve being apparently\n",
      "irrevocable--the\n",
      "discussion gradually died out, and, as Mrs.\n",
      "Thwing had predicted,\n",
      "the price of \"Gisburns\" went up.\n",
      "It was not till three years later that, in the course of a few\n",
      "weeks' idling on the Riviera, it suddenly occurred to me to\n",
      "wonder\n",
      " why Gisburn had given up his painting. On\n",
      "reflection, it really was\n",
      "a tempting problem. To accuse his\n",
      "wife would have been too easy--his\n",
      " fair sitters had been\n",
      "denied the solace of saying that Mrs. Gisburn\n",
      "had \"dragged\n",
      "him down.\" For Mrs. Gisburn--as such--had not existed\n",
      "till\n",
      "nearly a year after Jack's resolve had been taken. It might be\n",
      "that he had married her--since he liked his ease--because he\n",
      "didn't\n",
      "want to go on painting; but it would have been hard\n",
      "to prove that he\n",
      "had given up his painting because he had\n",
      "married her.\n",
      "Of course, if she had not dragged him down, she had\n",
      "equally, as Miss\n",
      "Croft contended, failed to \"lift him up\"--\n",
      "she had not led him back\n",
      "to the easel. To put the brush into\n",
      "his hand again--what a vocation\n",
      " for a wife! But Mrs.\n",
      "Gisburn appeared to have disdained it--and I\n",
      "felt it might be\n",
      "interesting to find out why.\n",
      "The desultory life of the Riviera lends itself to such purely\n",
      "academic speculations; and having, on my way to Monte\n",
      "4\n",
      "Carlo, caught\n",
      " a glimpse of Jack's balustraded terraces\n",
      "between the pines, I had\n",
      "myself borne thither the next day.\n",
      "I found the couple at tea beneath their palm-trees; and Mrs.\n",
      "Gisburn's welcome was so genial that, in the ensuing\n",
      "weeks, I\n",
      "claimed it frequently. It was not that my hostess\n",
      "was \"interesting\":\n",
      " on that point I could have given Miss\n",
      "Croft the fullest reassurance.\n",
      " It was just because she was\n",
      "_not_ interesting--if I may be pardoned\n",
      " the bull--that I\n",
      "found her so. For Jack, all his life, had been\n",
      "surrounded by\n",
      "interesting women: they had fostered his art, it had\n",
      " been\n",
      "reared in the hot-house of their adulation. And it was\n",
      "therefore instructive to note what effect the \"deadening\n",
      "atmosphere\n",
      "of mediocrity\" (I quote Miss Croft) was having\n",
      "on him.\n",
      "I have mentioned that Mrs. Gisburn was rich; and it was\n",
      "immediately\n",
      " perceptible that her husband was extracting\n",
      "from \n",
      "this \n",
      "circumstance \n",
      "a\n",
      "delicate \n",
      "but \n",
      "substantial\n",
      "satisfaction. It is, as a rule, the people\n",
      " who scorn money\n",
      "who get most out of it; and Jack's elegant disdain\n",
      " of his\n",
      "wife's big balance enabled him, with an appearance of\n",
      "perfect\n",
      "good-breeding, to transmute it into objects of art and\n",
      "luxury. To\n",
      " the latter, I must add, he remained relatively\n",
      "indifferent; but he\n",
      " was buying Renaissance bronzes and\n",
      "eighteenth-century pictures with\n",
      " a discrimination that\n",
      "bespoke the amplest resources.\n",
      "5\n",
      "\"Money's only excuse is to put beauty into circulation,\" was\n",
      "one of\n",
      "the axioms he laid down across the Sevres and silver\n",
      "of an\n",
      "exquisitely appointed luncheon-table, when, on a later\n",
      "day, I had\n",
      " again run over from Monte Carlo; and Mrs.\n",
      "Gisburn, beaming on him,\n",
      " added for my enlightenment:\n",
      "\"Jack is so morbidly sensitive to every\n",
      "form of beauty.\"\n",
      "Poor Jack! It had always been his fate to have women say\n",
      "such things\n",
      " of him: the fact should be set down in\n",
      "extenuation. What struck me\n",
      " now was that, for the first\n",
      "time, he resented the tone. I had seen\n",
      "him, so often, basking\n",
      "under similar tributes--was it the conjugal\n",
      "note that robbed\n",
      "them of their savour? No--for, oddly enough, it\n",
      " became\n",
      "apparent that he was fond of Mrs. Gisburn--fond enough\n",
      "not to\n",
      "see her absurdity. It was his own absurdity he seemed\n",
      "to be wincing\n",
      " under--his own attitude as an object for\n",
      "garlands and incense.\n",
      "\"My dear, since I've chucked painting people don't say that\n",
      "stuff\n",
      "about me--they say it about Victor Grindle,\" was his\n",
      "only protest,\n",
      "as he rose from the table and strolled out onto\n",
      "the sunlit terrace.\n",
      "I glanced after him, struck by his last word. Victor Grindle\n",
      "was, in\n",
      " fact, becoming the man of the moment--as Jack\n",
      "himself, one might put\n",
      "it, had been the man of the hour. The\n",
      "younger artist was said to\n",
      " have formed himself at my\n",
      "friend's feet, and I wondered if a tinge\n",
      "of jealousy underlay\n",
      "the latter's mysterious abdication. But no--for\n",
      "it was not till\n",
      "6\n",
      "after that event that the _rose Dubarry_\n",
      "drawing-rooms had\n",
      "begun to display their \"Grindles.\"\n",
      "I turned to Mrs. Gisburn, who had lingered to give a lump\n",
      "of sugar\n",
      "to her spaniel in the dining-room.\n",
      "\"Why _has_ he chucked painting?\" I asked abruptly.\n",
      "She raised her eyebrows with a hint of good-humoured\n",
      "surprise.\n",
      "\"Oh, he doesn't _have_ to now, you know; and I want him\n",
      "to enjoy\n",
      "himself,\" she said quite simply.\n",
      "I looked about the spacious white-panelled room, with its\n",
      "_famille-verte_ vases repeating the tones of the pale\n",
      "damask\n",
      " curtains, and its eighteenth-century pastels in\n",
      "delicate faded\n",
      "frames.\n",
      "\"Has he chucked his pictures too? I haven't seen a single\n",
      "one in the\n",
      "house.\"\n",
      "A slight shade of constraint crossed Mrs. Gisburn's open\n",
      "countenance. \"It's his ridiculous modesty, you know. He\n",
      "says they're\n",
      "not fit to have about; he's sent them all away\n",
      "except one--my\n",
      "portrait--and that I have to keep upstairs.\"\n",
      "His ridiculous modesty--Jack's modesty about his pictures?\n",
      "My\n",
      " curiosity was growing like the bean-stalk. I said\n",
      "7\n",
      "persuasively to my\n",
      "hostess: \"I must really see your portrait,\n",
      "you know.\"\n",
      "She glanced out almost timorously at the terrace where her\n",
      "husband,\n",
      " lounging in a hooded chair, had lit a cigar and\n",
      "drawn the Russian\n",
      "deerhound's head between his knees.\n",
      "\"Well, come while he's not looking,\" she said, with a laugh\n",
      "that\n",
      " tried to hide her nervousness; and I followed her\n",
      "between the marble\n",
      "Emperors of the hall, and up the wide\n",
      "stairs with terra-cotta nymphs\n",
      "poised among flowers at each\n",
      "landing.\n",
      "In the dimmest corner of her boudoir, amid a profusion of\n",
      "delicate\n",
      "and distinguished objects, hung one of the familiar\n",
      "oval canvases,\n",
      "in the inevitable garlanded frame. The mere\n",
      "outline of the frame\n",
      "called up all Gisburn's past!\n",
      "Mrs. Gisburn drew back the window-curtains, moved aside\n",
      "a\n",
      " _jardiniere_ full of pink azaleas, pushed an arm-chair\n",
      "away, and\n",
      "said: \"If you stand here you can just manage to\n",
      "see it. I had it\n",
      "over the mantel-piece, but he wouldn't let it\n",
      "stay.\"\n",
      "Yes--I could just manage to see it--the first portrait of Jack's\n",
      "I\n",
      "had ever had to strain my eyes over! Usually they had the\n",
      "place of\n",
      "honour--say the central panel in a pale yellow or\n",
      "_rose Dubarry_\n",
      " drawing-room, or a monumental easel\n",
      "placed so that it took the light\n",
      " through curtains of old\n",
      "8\n",
      "Venetian point. The more modest place became\n",
      "the picture\n",
      "better; yet, as my eyes grew accustomed to the\n",
      "half-light, all\n",
      "the characteristic qualities came out--all the\n",
      " hesitations\n",
      "disguised as audacities, the tricks of prestidigitation\n",
      " by\n",
      "which, with such consummate skill, he managed to divert\n",
      "attention\n",
      "from the real business of the picture to some pretty\n",
      "irrelevance of\n",
      " detail. Mrs. Gisburn, presenting a neutral\n",
      "surface to work\n",
      "on--forming, as it were, so inevitably the\n",
      "background of her own\n",
      " picture--had lent herself in an\n",
      "unusual degree to the display of\n",
      " this false virtuosity. The\n",
      "picture was one of Jack's \"strongest,\" as\n",
      "his admirers would\n",
      "have put it--it represented, on his part, a\n",
      " swelling of\n",
      "muscles, a congesting of veins, a balancing, straddling\n",
      "and\n",
      "straining, that reminded one of the circus-clown's ironic\n",
      "efforts to lift a feather. It met, in short, at every point the\n",
      "demand of lovely woman to be painted \"strongly\" because\n",
      "she was\n",
      "tired of being painted \"sweetly\"--and yet not to lose\n",
      "an atom of the\n",
      "sweetness.\n",
      "\"It's the last he painted, you know,\" Mrs. Gisburn said with\n",
      "pardonable pride. \"The last but one,\" she corrected herself--\n",
      "\"but\n",
      "the other doesn't count, because he destroyed it.\"\n",
      "\"Destroyed it?\" I was about to follow up this clue when I\n",
      "heard a\n",
      "footstep and saw Jack himself on the threshold.\n",
      "As he stood there, his hands in the pockets of his velveteen\n",
      "coat,\n",
      " the thin brown waves of hair pushed back from his\n",
      "white forehead,\n",
      " his lean sunburnt cheeks furrowed by a\n",
      "9\n",
      "smile that lifted the tips of\n",
      "a self-confident moustache, I felt\n",
      "to what a degree he had the same\n",
      "quality as his pictures--the\n",
      "quality of looking cleverer than he\n",
      "was.\n",
      "His wife glanced at him deprecatingly, but his eyes\n",
      "travelled past\n",
      "her to the portrait.\n",
      "\"Mr. Rickham wanted to see it,\" she began, as if excusing\n",
      "herself.\n",
      "He shrugged his shoulders, still smiling.\n",
      "\"Oh, Rickham found me out long ago,\" he said lightly; then,\n",
      "passing\n",
      "his arm through mine: \"Come and see the rest of the\n",
      "house.\"\n",
      "He showed it to me with a kind of naive suburban pride: the\n",
      "bath-rooms, the speaking-tubes, the dress-closets, the\n",
      "trouser-presses--all the complex simplifications of the\n",
      "millionaire's domestic economy. And whenever my wonder\n",
      "paid the\n",
      "expected tribute he said, throwing out his chest a\n",
      "little: \"Yes, I\n",
      " really don't see how people manage to live\n",
      "without that.\"\n",
      "Well--it was just the end one might have foreseen for him.\n",
      "Only he\n",
      "was, through it all and in spite of it all--as he had\n",
      "been through,\n",
      "and in spite of, his pictures--so handsome, so\n",
      "charming, so\n",
      " disarming, that one longed to cry out: \"Be\n",
      "dissatisfied with your\n",
      "leisure!\" as once one had longed to\n",
      "say: \"Be dissatisfied with your\n",
      "work!\"\n",
      "10\n",
      "But, with the cry on my lips, my diagnosis suffered an\n",
      "unexpected\n",
      "check.\n",
      "\"This is my own lair,\" he said, leading me into a dark plain\n",
      "room at\n",
      "the end of the florid vista. It was square and brown\n",
      "and leathery:\n",
      "no \"effects\"; no bric-a-brac, none of the air of\n",
      "posing for\n",
      "reproduction in a picture weekly--above all, no\n",
      "least sign of ever\n",
      "having been used as a studio.\n",
      "The fact brought home to me the absolute finality of Jack's\n",
      "break\n",
      "with his old life.\n",
      "\"Don't you ever dabble with paint any more?\" I asked, still\n",
      "looking\n",
      "about for a trace of such activity.\n",
      "\"Never,\" he said briefly.\n",
      "\"Or water-colour--or etching?\"\n",
      "His confident eyes grew dim, and his cheeks paled a little\n",
      "under\n",
      "their handsome sunburn.\n",
      "\"Never think of it, my dear fellow--any more than if I'd\n",
      "never\n",
      "touched a brush.\"\n",
      "And his tone told me in a flash that he never thought of\n",
      "anything\n",
      "else.\n",
      "I moved away, instinctively embarrassed by my unexpected\n",
      "discovery;\n",
      "and as I turned, my eye fell on a small picture\n",
      "11\n",
      "above the\n",
      "mantel-piece--the only object breaking the plain\n",
      "oak panelling of\n",
      "the room.\n",
      "\"Oh, by Jove!\" I said.\n",
      "It was a sketch of a donkey--an old tired donkey, standing\n",
      "in the\n",
      "rain under a wall.\n",
      "\"By Jove--a Stroud!\" I cried.\n",
      "He was silent; but I felt him close behind me, breathing a\n",
      "little\n",
      "quickly.\n",
      "\"What a wonder! Made with a dozen lines--but on\n",
      "everlasting\n",
      "foundations. You lucky chap, where did you get\n",
      "it?\"\n",
      "He answered slowly: \"Mrs. Stroud gave it to me.\"\n",
      "\"Ah--I didn't know you even knew the Strouds. He was\n",
      "such an\n",
      "inflexible hermit.\"\n",
      "\"I didn't--till after. . . . She sent for me to paint him when he\n",
      "was dead.\"\n",
      "\"When he was dead? You?\"\n",
      "I must have let a little too much amazement escape through\n",
      "my\n",
      " surprise, for he answered with a deprecating laugh:\n",
      "\"Yes--she's an\n",
      "awful simpleton, you know, Mrs. Stroud. Her\n",
      "12\n",
      "only idea was to have\n",
      "him done by a fashionable painter--\n",
      "ah, poor Stroud! She thought it\n",
      " the surest way of\n",
      "proclaiming his greatness--of forcing it on a\n",
      " purblind\n",
      "public. And at the moment I was _the_ fashionable painter.\"\n",
      "\"Ah, poor Stroud--as you say. Was _that_ his history?\"\n",
      "\"That was his history. She believed in him, gloried in him--\n",
      "or\n",
      "thought she did. But she couldn't bear not to have all the\n",
      "drawing-rooms with her. She couldn't bear the fact that, on\n",
      "varnishing days, one could always get near enough to see\n",
      "his\n",
      "pictures. Poor woman! She's just a fragment groping for\n",
      "other\n",
      "fragments. Stroud is the only whole I ever knew.\"\n",
      "\"You ever knew? But you just said--\"\n",
      "Gisburn had a curious smile in his eyes.\n",
      "\"Oh, I knew him, and he knew me--only it happened after\n",
      "he was\n",
      "dead.\"\n",
      "I dropped my voice instinctively. \"When she sent for you?\"\n",
      "\"Yes--quite insensible to the irony. She wanted him\n",
      "vindicated--and\n",
      "by me!\"\n",
      "He laughed again, and threw back his head to look up at the\n",
      "sketch\n",
      " of the donkey. \"There were days when I couldn't\n",
      "look at that\n",
      "thing--couldn't face it. But I forced myself to\n",
      "put it here; and now\n",
      " it's cured me--cured me. That's the\n",
      "13\n",
      "reason why I don't dabble any\n",
      "more, my dear Rickham; or\n",
      "rather Stroud himself is the reason.\"\n",
      "For the first time my idle curiosity about my companion\n",
      "turned into\n",
      "a serious desire to understand him better.\n",
      "\"I wish you'd tell me how it happened,\" I said.\n",
      "He stood looking up at the sketch, and twirling between his\n",
      "fingers\n",
      " a cigarette he had forgotten to light. Suddenly he\n",
      "turned toward me.\n",
      "\"I'd rather like to tell you--because I've always suspected\n",
      "you of\n",
      "loathing my work.\"\n",
      "I made a deprecating gesture, which he negatived with a\n",
      "good-humoured shrug.\n",
      "\"Oh, I didn't care a straw when I believed in myself--and\n",
      "now it's\n",
      "an added tie between us!\"\n",
      "He laughed slightly, without bitterness, and pushed one of\n",
      "the deep\n",
      " arm-chairs forward. \"There: make yourself\n",
      "comfortable--and here are\n",
      "the cigars you like.\"\n",
      "He placed them at my elbow and continued to wander up\n",
      "and down the\n",
      " room, stopping now and then beneath the\n",
      "picture.\n",
      "14\n",
      "\"How it happened? I can tell you in five minutes--and it\n",
      "didn't take\n",
      "much longer to happen. . . . I can remember now\n",
      "how surprised and\n",
      "pleased I was when I got Mrs. Stroud's\n",
      "note. Of course, deep down, I\n",
      "had always _felt_ there was\n",
      "no one like him--only I had gone with\n",
      "the stream, echoed\n",
      "the usual platitudes about him, till I half got\n",
      "to think he was\n",
      "a failure, one of the kind that are left behind. By\n",
      "Jove, and\n",
      "he _was_ left behind--because he had come to stay! The\n",
      "rest of us had to let ourselves be swept along or go under,\n",
      "but he\n",
      " was high above the current--on everlasting\n",
      "foundations, as you say.\n",
      "\"Well, I went off to the house in my most egregious mood--\n",
      "rather\n",
      " moved, Lord forgive me, at the pathos of poor\n",
      "Stroud's career of\n",
      "failure being crowned by the glory of my\n",
      "painting him! Of course I\n",
      " meant to do the picture for\n",
      "nothing--I told Mrs. Stroud so when she\n",
      "began to stammer\n",
      "something about her poverty. I remember getting off\n",
      " a\n",
      "prodigious phrase about the honour being _mine_--oh, I\n",
      "was\n",
      "princely, my dear Rickham! I was posing to myself like\n",
      "one of my own\n",
      "sitters.\n",
      "\"Then I was taken up and left alone with him. I had sent all\n",
      "my\n",
      "traps in advance, and I had only to set up the easel and\n",
      "get to\n",
      "work. He had been dead only twenty-four hours, and\n",
      "he died suddenly,\n",
      "of heart disease, so that there had been no\n",
      "preliminary work of\n",
      " destruction--his face was clear and\n",
      "untouched. I had met him once or\n",
      "twice, years before, and\n",
      "15\n",
      "thought him insignificant and dingy. Now I\n",
      "saw that he was\n",
      "superb.\n",
      "\"I was glad at first, with a merely aesthetic satisfaction:\n",
      "glad to\n",
      "have my hand on such a 'subject.' Then his strange\n",
      "life-likeness\n",
      " began to affect me queerly--as I blocked the\n",
      "head in I felt as if he\n",
      "were watching me do it. The sensation\n",
      "was followed by the thought:\n",
      " if he _were_ watching me,\n",
      "what would he say to my way of working? My\n",
      " strokes\n",
      "began to go a little wild--I felt nervous and uncertain.\n",
      "\"Once, when I looked up, I seemed to see a smile behind his\n",
      "close\n",
      " grayish beard--as if he had the secret, and were\n",
      "amusing himself by\n",
      " holding it back from me. That\n",
      "exasperated me still more. The secret?\n",
      "Why, I had a secret\n",
      "worth twenty of his! I dashed at the canvas\n",
      "furiously, and\n",
      "tried some of my bravura tricks. But they failed me,\n",
      "they\n",
      "crumbled. I saw that he wasn't watching the showy bits--I\n",
      "couldn't distract his attention; he just kept his eyes on the\n",
      "hard\n",
      "passages between. Those were the ones I had always\n",
      "shirked, or\n",
      "covered up with some lying paint. And how he\n",
      "saw through my lies!\n",
      "\"I looked up again, and caught sight of that sketch of the\n",
      "donkey\n",
      "hanging on the wall near his bed. His wife told me\n",
      "afterward it was\n",
      "the last thing he had done--just a note taken\n",
      "with a shaking hand,\n",
      " when he was down in Devonshire\n",
      "recovering from a previous heart\n",
      "attack. Just a note! But it\n",
      "tells his whole history. There are years\n",
      "of patient scornful\n",
      "16\n",
      "persistence in every line. A man who had swum\n",
      "with the\n",
      "current could never have learned that mighty up-stream\n",
      "stroke. . . .\n",
      "\"I turned back to my work, and went on groping and\n",
      "muddling; then I\n",
      " looked at the donkey again. I saw that,\n",
      "when Stroud laid in the\n",
      "first stroke, he knew just what the\n",
      "end would be. He had possessed\n",
      " his subject, absorbed it,\n",
      "recreated it. When had I done that with\n",
      "any of my things?\n",
      "They hadn't been born of me--I had just adopted\n",
      "them. . . .\n",
      "\"Hang it, Rickham, with that face watching me I couldn't do\n",
      "another\n",
      "stroke. The plain truth was, I didn't know where to\n",
      "put it--_I had\n",
      "never known_. Only, with my sitters and my\n",
      "public, a showy splash of\n",
      "colour covered up the fact--I just\n",
      "threw paint into their faces. . .\n",
      " . Well, paint was the one\n",
      "medium those dead eyes could see\n",
      "through--see straight to\n",
      "the tottering foundations underneath. Don't\n",
      "you know how,\n",
      "in talking a foreign language, even fluently, one says\n",
      "half\n",
      "the time not what one wants to but what one can? Well--that\n",
      "was\n",
      "the way I painted; and as he lay there and watched me,\n",
      "the thing\n",
      "they called my 'technique' collapsed like a house\n",
      "of cards. He\n",
      "didn't sneer, you understand, poor Stroud--he\n",
      "just lay there quietly\n",
      "watching, and on his lips, through the\n",
      "gray beard, I seemed to hear\n",
      "the question: 'Are you sure you\n",
      "know where you're coming out?'\n",
      "\"If I could have painted that face, with that question on it, I\n",
      "should have done a great thing. The next greatest thing was\n",
      "17\n",
      "to see\n",
      "that I couldn't--and that grace was given me. But, oh,\n",
      "at that\n",
      " minute, Rickham, was there anything on earth I\n",
      "wouldn't have given\n",
      "to have Stroud alive before me, and to\n",
      "hear him say: 'It's not too\n",
      "late--I'll show you how'?\n",
      "\"It _was_ too late--it would have been, even if he'd been\n",
      "alive. I\n",
      "packed up my traps, and went down and told Mrs.\n",
      "Stroud. Of course I\n",
      " didn't tell her _that_--it would have\n",
      "been Greek to her. I simply\n",
      "said I couldn't paint him, that I\n",
      "was too moved. She rather liked\n",
      "the idea--she's so romantic!\n",
      "It was that that made her give me the\n",
      "donkey. But she was\n",
      "terribly upset at not getting the portrait--she\n",
      " did so want\n",
      "him 'done' by some one showy! At first I was afraid she\n",
      "wouldn't let me off--and at my wits' end I suggested\n",
      "Grindle. Yes,\n",
      " it was I who started Grindle: I told Mrs.\n",
      "Stroud he was the 'coming'\n",
      " man, and she told somebody\n",
      "else, and so it got to be true. . . . And\n",
      " he painted Stroud\n",
      "without wincing; and she hung the picture among\n",
      " her\n",
      "husband's things. . . .\"\n",
      "He flung himself down in the arm-chair near mine, laid\n",
      "back his\n",
      "head, and clasping his arms beneath it, looked up\n",
      "at the picture\n",
      "above the chimney-piece.\n",
      "\"I like to fancy that Stroud himself would have given it to\n",
      "me, if\n",
      "he'd been able to say what he thought that day.\"\n",
      "And, in answer to a question I put half-mechanically--\n",
      "\"Begin again?\"\n",
      " he flashed out. \"When the one thing that\n",
      "18\n",
      "brings me anywhere near him\n",
      "is that I knew enough to leave\n",
      "off?\"\n",
      "He stood up and laid his hand on my shoulder with a laugh.\n",
      "\"Only the\n",
      " irony of it is that I _am_ still painting--since\n",
      "Grindle's doing it\n",
      " for me! The Strouds stand alone, and\n",
      "happen once--but there's no\n",
      "exterminating our kind of art.\"\n",
      "19\n",
      "This work is in the public domain in\n",
      "the United States because it was\n",
      "published before January 1, 1929.\n",
      "This work may be in the public\n",
      "domain in countries and areas with\n",
      "longer native copyright terms that\n",
      "apply the rule of the shorter term to\n",
      "foreign works.\n",
      "20\n",
      "21\n",
      "About this digital edition\n",
      "This e-book comes from the online library Wikisource. This\n",
      "multilingual digital library, built by volunteers, is\n",
      "committed to developing a free accessible collection of\n",
      "publications of every kind: novels, poems, magazines,\n",
      "letters...\n",
      "We distribute our books for free, starting from works not\n",
      "copyrighted or published under a free license. You are free\n",
      "to use our e-books for any purpose (including commercial\n",
      "exploitation), under the terms of the Creative Commons\n",
      "Attribution-ShareAlike 4.0 Unported license or, at your\n",
      "choice, those of the GNU FDL.\n",
      "Wikisource is constantly looking for new members. During\n",
      "the transcription and proofreading of this book, it's possible\n",
      "that we made some errors. You can report them at this page.\n",
      "The following users contributed to this book:\n",
      "Zigzig20s~enwikisource\n",
      "Zhaladshar\n",
      "Pathosbot\n",
      "AdamBMorgan\n",
      "Steinsplitter\n",
      "Rocket000\n",
      "Dbenbenn\n",
      "22\n",
      "Zscout370\n",
      "Jacobolus\n",
      "Indolences\n",
      "Technion\n",
      "Dha\n",
      "Abigor\n",
      "Reisio\n",
      "Blurpeace\n",
      "Dschwen\n",
      "Boris23\n",
      "KABALINI\n",
      "Bromskloss\n",
      "Tene~commonswiki\n",
      "AzaToth\n",
      "Bender235\n",
      "PatríciaR\n",
      "\n"
     ]
    }
   ],
   "source": [
    "import fitz  # PyMuPDF\n",
    "\n",
    "# Open the PDF file\n",
    "with fitz.open(\"The_Verdict.pdf\") as doc:\n",
    "    raw_text = \"\"\n",
    "    # Loop through each page of the PDF and extract text\n",
    "    for page_num in range(len(doc)):\n",
    "        page = doc.load_page(page_num)  # Load page by number\n",
    "        raw_text += page.get_text()  # Extract text from page\n",
    "\n",
    "print(raw_text)\n"
   ]
  },
  {
   "cell_type": "markdown",
   "metadata": {},
   "source": [
    "## Creating Tokens"
   ]
  },
  {
   "cell_type": "code",
   "execution_count": 4,
   "metadata": {},
   "outputs": [],
   "source": [
    "## Use Regex function "
   ]
  },
  {
   "cell_type": "code",
   "execution_count": 22,
   "metadata": {},
   "outputs": [
    {
     "name": "stdout",
     "output_type": "stream",
     "text": [
      "Total number of character: 21916\n",
      "1\n",
      "The Verdict\n",
      "Edith Wharton\n",
      "1908\n",
      "Exported from Wikisource on May 20, 2024\n",
      "2\n",
      "I HAD always thought Jac\n"
     ]
    }
   ],
   "source": [
    "print(\"Total number of character:\", len(raw_text))\n",
    "print(raw_text[:100])"
   ]
  },
  {
   "cell_type": "code",
   "execution_count": 7,
   "metadata": {},
   "outputs": [
    {
     "name": "stdout",
     "output_type": "stream",
     "text": [
      "['Hello,', ' ', 'world.', ' ', 'this', ' ', 'is', ' ', 'an', ' ', 'example.']\n"
     ]
    }
   ],
   "source": [
    "import re\n",
    "\n",
    "text = \"Hello, world. this is an example.\"\n",
    "result = re.split(r'(\\s)', text)\n",
    "\n",
    "print(result)"
   ]
  },
  {
   "cell_type": "code",
   "execution_count": 8,
   "metadata": {},
   "outputs": [
    {
     "name": "stdout",
     "output_type": "stream",
     "text": [
      "['Hello', ',', '', ' ', 'world', '.', '', ' ', 'this', ' ', 'is', ' ', 'an', ' ', 'example', '.', '']\n"
     ]
    }
   ],
   "source": [
    "result = re.split(r'([,.]|\\s)', text)\n",
    "\n",
    "print(result)"
   ]
  },
  {
   "cell_type": "code",
   "execution_count": 9,
   "metadata": {},
   "outputs": [
    {
     "name": "stdout",
     "output_type": "stream",
     "text": [
      "['Hello', ',', 'world', '.', 'this', 'is', 'an', 'example', '.']\n"
     ]
    }
   ],
   "source": [
    "result = [item for item in result if item.strip()]\n",
    "print(result)"
   ]
  },
  {
   "cell_type": "code",
   "execution_count": 10,
   "metadata": {},
   "outputs": [
    {
     "name": "stdout",
     "output_type": "stream",
     "text": [
      "['Hello', ',', 'world', '.', 'Is', 'this', ':', ':', ':', ':', 'a', '(', ')', 'example', '?']\n"
     ]
    }
   ],
   "source": [
    "text = \"Hello, world. Is this :::: a () example?\"\n",
    "result = re.split(r'([,.:;?_!\"()\\']|--|\\s)', text)\n",
    "result = [item.strip() for item in result if item.strip()]\n",
    "print(result)"
   ]
  },
  {
   "cell_type": "code",
   "execution_count": 11,
   "metadata": {},
   "outputs": [
    {
     "name": "stdout",
     "output_type": "stream",
     "text": [
      "['Hello', ',', 'world', '.', 'Is', 'this', ':', ':', ':', ':', 'a', '(', ')', 'example', '?']\n"
     ]
    }
   ],
   "source": [
    "# Strip whitespace from each item and then filter out any empty strings.\n",
    "result = [item for item in result if item.strip()]\n",
    "print(result)"
   ]
  },
  {
   "cell_type": "code",
   "execution_count": 12,
   "metadata": {},
   "outputs": [
    {
     "name": "stdout",
     "output_type": "stream",
     "text": [
      "['Hello', ',', 'world', '.', 'Is', 'this-', '(', ')', '-', 'an', 'example', '?']\n"
     ]
    }
   ],
   "source": [
    "text = \"Hello, world. Is this-()- an example?\"\n",
    "\n",
    "result = re.split(r'([,.:;?_!\"()\\']|--|\\s)', text)\n",
    "result = [item.strip() for item in result if item.strip()]\n",
    "print(result)"
   ]
  },
  {
   "cell_type": "code",
   "execution_count": 14,
   "metadata": {},
   "outputs": [
    {
     "name": "stdout",
     "output_type": "stream",
     "text": [
      "['1', 'The', 'Verdict', 'Edith', 'Wharton', '1908', 'Exported', 'from', 'Wikisource', 'on']\n",
      "4947\n"
     ]
    }
   ],
   "source": [
    "pre_processed = re.split(r'([,.:;?_!\"()\\']|--|\\s)', raw_text)\n",
    "pre_processed = [item.strip() for item in pre_processed if item.strip()]\n",
    "print(pre_processed[:10])\n",
    "print(len(pre_processed))\n"
   ]
  },
  {
   "cell_type": "markdown",
   "metadata": {},
   "source": [
    "## Create Token IDS"
   ]
  },
  {
   "cell_type": "code",
   "execution_count": 33,
   "metadata": {},
   "outputs": [
    {
     "name": "stdout",
     "output_type": "stream",
     "text": [
      "1252\n"
     ]
    }
   ],
   "source": [
    "words = sorted(set(pre_processed))\n",
    "vocab_size = len(words)\n",
    "\n",
    "print(vocab_size)"
   ]
  },
  {
   "cell_type": "code",
   "execution_count": 34,
   "metadata": {},
   "outputs": [],
   "source": [
    "vocab = {token:integer for integer,token in enumerate(words)}"
   ]
  },
  {
   "cell_type": "code",
   "execution_count": 35,
   "metadata": {},
   "outputs": [
    {
     "name": "stdout",
     "output_type": "stream",
     "text": [
      "('!', 0)\n",
      "('\"', 1)\n",
      "(\"'\", 2)\n",
      "('(', 3)\n",
      "(')', 4)\n",
      "(',', 5)\n",
      "('--', 6)\n",
      "('.', 7)\n",
      "('0', 8)\n",
      "('1', 9)\n",
      "('10', 10)\n",
      "('11', 11)\n",
      "('12', 12)\n",
      "('13', 13)\n",
      "('14', 14)\n",
      "('15', 15)\n",
      "('16', 16)\n",
      "('17', 17)\n",
      "('18', 18)\n",
      "('19', 19)\n",
      "('1908', 20)\n",
      "('1929', 21)\n",
      "('2', 22)\n",
      "('20', 23)\n",
      "('2024', 24)\n",
      "('21', 25)\n",
      "('22', 26)\n",
      "('3', 27)\n",
      "('4', 28)\n",
      "('5', 29)\n",
      "('6', 30)\n",
      "('7', 31)\n",
      "('8', 32)\n",
      "('9', 33)\n",
      "(':', 34)\n",
      "(';', 35)\n",
      "('?', 36)\n",
      "('A', 37)\n",
      "('Abigor', 38)\n",
      "('About', 39)\n",
      "('AdamBMorgan', 40)\n",
      "('Ah', 41)\n",
      "('Among', 42)\n",
      "('And', 43)\n",
      "('Are', 44)\n",
      "('Arrt', 45)\n",
      "('As', 46)\n",
      "('At', 47)\n",
      "('Attribution-ShareAlike', 48)\n",
      "('AzaToth', 49)\n",
      "('Be', 50)\n",
      "('Begin', 51)\n",
      "('Bender235', 52)\n",
      "('Blurpeace', 53)\n",
      "('Boris23', 54)\n",
      "('Bromskloss', 55)\n",
      "('Burlington', 56)\n",
      "('But', 57)\n",
      "('By', 58)\n",
      "('Carlo', 59)\n",
      "('Chicago', 60)\n"
     ]
    }
   ],
   "source": [
    "for i, item in enumerate(vocab.items()):\n",
    "    print(item)\n",
    "    if i >= 60:\n",
    "        break"
   ]
  },
  {
   "cell_type": "code",
   "execution_count": 36,
   "metadata": {},
   "outputs": [],
   "source": [
    "class TokenizerV1:\n",
    "    def __init__(self, vocab):\n",
    "        self.str_to_int = vocab\n",
    "        self.int_to_str = {i:s for s,i in vocab.items()}\n",
    "    \n",
    "    def encode(self, text):\n",
    "        pre_processed = re.split(r'([,.:;?_!\"()\\']|--|\\s)', text)\n",
    "                                \n",
    "        pre_processed = [\n",
    "            item.strip() for item in pre_processed if item.strip()\n",
    "        ]\n",
    "        ids = [self.str_to_int[s] for s in pre_processed]\n",
    "        return ids\n",
    "        \n",
    "    def decode(self, ids):\n",
    "        text = \" \".join([self.int_to_str[i] for i in ids])\n",
    "        # Replace spaces before the specified punctuations\n",
    "        text = re.sub(r'\\s+([,.?!\"()\\'])', r'\\1', text)\n",
    "        return text"
   ]
  },
  {
   "cell_type": "code",
   "execution_count": 37,
   "metadata": {},
   "outputs": [
    {
     "name": "stdout",
     "output_type": "stream",
     "text": [
      "[1, 102, 2, 962, 1104, 696, 626, 851, 5, 1248, 690, 5, 1, 117, 7, 83, 963, 1229, 859, 900, 7]\n"
     ]
    }
   ],
   "source": [
    "tokenizer = TokenizerV1(vocab)\n",
    "\n",
    "text = \"\"\"\"It's the last he painted, you know,\" \n",
    "           Mrs. Gisburn said with pardonable pride.\"\"\"\n",
    "ids = tokenizer.encode(text)\n",
    "print(ids)"
   ]
  },
  {
   "cell_type": "code",
   "execution_count": 38,
   "metadata": {},
   "outputs": [
    {
     "data": {
      "text/plain": [
       "'\" It\\' s the last he painted, you know,\" Mrs. Gisburn said with pardonable pride.'"
      ]
     },
     "execution_count": 38,
     "metadata": {},
     "output_type": "execute_result"
    }
   ],
   "source": [
    "tokenizer.decode(ids)"
   ]
  },
  {
   "cell_type": "code",
   "execution_count": 39,
   "metadata": {},
   "outputs": [
    {
     "ename": "KeyError",
     "evalue": "'Hello'",
     "output_type": "error",
     "traceback": [
      "\u001b[1;31m---------------------------------------------------------------------------\u001b[0m",
      "\u001b[1;31mKeyError\u001b[0m                                  Traceback (most recent call last)",
      "Cell \u001b[1;32mIn[39], line 2\u001b[0m\n\u001b[0;32m      1\u001b[0m text \u001b[38;5;241m=\u001b[39m \u001b[38;5;124m\"\u001b[39m\u001b[38;5;124mHello, do you like tea?\u001b[39m\u001b[38;5;124m\"\u001b[39m\n\u001b[1;32m----> 2\u001b[0m \u001b[38;5;28mprint\u001b[39m(\u001b[43mtokenizer\u001b[49m\u001b[38;5;241;43m.\u001b[39;49m\u001b[43mencode\u001b[49m\u001b[43m(\u001b[49m\u001b[43mtext\u001b[49m\u001b[43m)\u001b[49m)\n",
      "Cell \u001b[1;32mIn[36], line 12\u001b[0m, in \u001b[0;36mTokenizerV1.encode\u001b[1;34m(self, text)\u001b[0m\n\u001b[0;32m      7\u001b[0m pre_processed \u001b[38;5;241m=\u001b[39m re\u001b[38;5;241m.\u001b[39msplit(\u001b[38;5;124mr\u001b[39m\u001b[38;5;124m'\u001b[39m\u001b[38;5;124m([,.:;?_!\u001b[39m\u001b[38;5;124m\"\u001b[39m\u001b[38;5;124m()\u001b[39m\u001b[38;5;130;01m\\'\u001b[39;00m\u001b[38;5;124m]|--|\u001b[39m\u001b[38;5;124m\\\u001b[39m\u001b[38;5;124ms)\u001b[39m\u001b[38;5;124m'\u001b[39m, text)\n\u001b[0;32m      9\u001b[0m pre_processed \u001b[38;5;241m=\u001b[39m [\n\u001b[0;32m     10\u001b[0m     item\u001b[38;5;241m.\u001b[39mstrip() \u001b[38;5;28;01mfor\u001b[39;00m item \u001b[38;5;129;01min\u001b[39;00m pre_processed \u001b[38;5;28;01mif\u001b[39;00m item\u001b[38;5;241m.\u001b[39mstrip()\n\u001b[0;32m     11\u001b[0m ]\n\u001b[1;32m---> 12\u001b[0m ids \u001b[38;5;241m=\u001b[39m [\u001b[38;5;28mself\u001b[39m\u001b[38;5;241m.\u001b[39mstr_to_int[s] \u001b[38;5;28;01mfor\u001b[39;00m s \u001b[38;5;129;01min\u001b[39;00m pre_processed]\n\u001b[0;32m     13\u001b[0m \u001b[38;5;28;01mreturn\u001b[39;00m ids\n",
      "Cell \u001b[1;32mIn[36], line 12\u001b[0m, in \u001b[0;36m<listcomp>\u001b[1;34m(.0)\u001b[0m\n\u001b[0;32m      7\u001b[0m pre_processed \u001b[38;5;241m=\u001b[39m re\u001b[38;5;241m.\u001b[39msplit(\u001b[38;5;124mr\u001b[39m\u001b[38;5;124m'\u001b[39m\u001b[38;5;124m([,.:;?_!\u001b[39m\u001b[38;5;124m\"\u001b[39m\u001b[38;5;124m()\u001b[39m\u001b[38;5;130;01m\\'\u001b[39;00m\u001b[38;5;124m]|--|\u001b[39m\u001b[38;5;124m\\\u001b[39m\u001b[38;5;124ms)\u001b[39m\u001b[38;5;124m'\u001b[39m, text)\n\u001b[0;32m      9\u001b[0m pre_processed \u001b[38;5;241m=\u001b[39m [\n\u001b[0;32m     10\u001b[0m     item\u001b[38;5;241m.\u001b[39mstrip() \u001b[38;5;28;01mfor\u001b[39;00m item \u001b[38;5;129;01min\u001b[39;00m pre_processed \u001b[38;5;28;01mif\u001b[39;00m item\u001b[38;5;241m.\u001b[39mstrip()\n\u001b[0;32m     11\u001b[0m ]\n\u001b[1;32m---> 12\u001b[0m ids \u001b[38;5;241m=\u001b[39m [\u001b[38;5;28;43mself\u001b[39;49m\u001b[38;5;241;43m.\u001b[39;49m\u001b[43mstr_to_int\u001b[49m\u001b[43m[\u001b[49m\u001b[43ms\u001b[49m\u001b[43m]\u001b[49m \u001b[38;5;28;01mfor\u001b[39;00m s \u001b[38;5;129;01min\u001b[39;00m pre_processed]\n\u001b[0;32m     13\u001b[0m \u001b[38;5;28;01mreturn\u001b[39;00m ids\n",
      "\u001b[1;31mKeyError\u001b[0m: 'Hello'"
     ]
    }
   ],
   "source": [
    "text = \"Hello, do you like tea?\"\n",
    "print(tokenizer.encode(text))"
   ]
  },
  {
   "cell_type": "code",
   "execution_count": 26,
   "metadata": {},
   "outputs": [],
   "source": [
    "all_tokens = sorted(list(set(pre_processed)))\n",
    "all_tokens.extend([\"<|endoftext|>\", \"<|unk|>\"])\n",
    "\n",
    "vocab = {token:integer for integer,token in enumerate(all_tokens)}"
   ]
  },
  {
   "cell_type": "code",
   "execution_count": 27,
   "metadata": {},
   "outputs": [
    {
     "data": {
      "text/plain": [
       "1254"
      ]
     },
     "execution_count": 27,
     "metadata": {},
     "output_type": "execute_result"
    }
   ],
   "source": [
    "len(vocab.items())"
   ]
  },
  {
   "cell_type": "code",
   "execution_count": 28,
   "metadata": {},
   "outputs": [
    {
     "name": "stdout",
     "output_type": "stream",
     "text": [
      "('younger', 1249)\n",
      "('your', 1250)\n",
      "('yourself', 1251)\n",
      "('<|endoftext|>', 1252)\n",
      "('<|unk|>', 1253)\n"
     ]
    }
   ],
   "source": [
    "for i, item in enumerate(list(vocab.items())[-5:]):\n",
    "    print(item)"
   ]
  },
  {
   "cell_type": "code",
   "execution_count": 29,
   "metadata": {},
   "outputs": [],
   "source": [
    "class SimpleTokenizerV2:\n",
    "    def __init__(self, vocab):\n",
    "        self.str_to_int = vocab\n",
    "        self.int_to_str = { i:s for s,i in vocab.items()}\n",
    "    \n",
    "    def encode(self, text):\n",
    "        preprocessed = re.split(r'([,.:;?_!\"()\\']|--|\\s)', text)\n",
    "        preprocessed = [item.strip() for item in preprocessed if item.strip()]\n",
    "        preprocessed = [\n",
    "            item if item in self.str_to_int \n",
    "            else \"<|unk|>\" for item in preprocessed\n",
    "        ]\n",
    "\n",
    "        ids = [self.str_to_int[s] for s in preprocessed]\n",
    "        return ids\n",
    "        \n",
    "    def decode(self, ids):\n",
    "        text = \" \".join([self.int_to_str[i] for i in ids])\n",
    "        # Replace spaces before the specified punctuations\n",
    "        text = re.sub(r'\\s+([,.:;?!\"()\\'])', r'\\1', text)\n",
    "        return text"
   ]
  },
  {
   "cell_type": "code",
   "execution_count": 30,
   "metadata": {},
   "outputs": [
    {
     "name": "stdout",
     "output_type": "stream",
     "text": [
      "Hello, do you like tea? <|endoftext|> In the sunlit terraces of the palace.\n"
     ]
    }
   ],
   "source": [
    "tokenizer = SimpleTokenizerV2(vocab)\n",
    "\n",
    "text1 = \"Hello, do you like tea?\"\n",
    "text2 = \"In the sunlit terraces of the palace.\"\n",
    "\n",
    "text = \" <|endoftext|> \".join((text1, text2))\n",
    "\n",
    "print(text)"
   ]
  },
  {
   "cell_type": "code",
   "execution_count": 31,
   "metadata": {},
   "outputs": [
    {
     "data": {
      "text/plain": [
       "[1253,\n",
       " 5,\n",
       " 440,\n",
       " 1248,\n",
       " 725,\n",
       " 1089,\n",
       " 36,\n",
       " 1252,\n",
       " 100,\n",
       " 1104,\n",
       " 1070,\n",
       " 1100,\n",
       " 825,\n",
       " 1104,\n",
       " 1253,\n",
       " 7]"
      ]
     },
     "execution_count": 31,
     "metadata": {},
     "output_type": "execute_result"
    }
   ],
   "source": [
    "tokenizer.encode(text)"
   ]
  },
  {
   "cell_type": "code",
   "execution_count": 32,
   "metadata": {},
   "outputs": [
    {
     "data": {
      "text/plain": [
       "'<|unk|>, do you like tea? <|endoftext|> In the sunlit terraces of the <|unk|>.'"
      ]
     },
     "execution_count": 32,
     "metadata": {},
     "output_type": "execute_result"
    }
   ],
   "source": [
    "tokenizer.decode(tokenizer.encode(text))"
   ]
  },
  {
   "cell_type": "markdown",
   "metadata": {},
   "source": [
    "### BYTE PAIR ENCODING (BPE)"
   ]
  },
  {
   "cell_type": "code",
   "execution_count": 40,
   "metadata": {},
   "outputs": [
    {
     "name": "stdout",
     "output_type": "stream",
     "text": [
      "Collecting tiktoken\n",
      "  Downloading tiktoken-0.9.0-cp310-cp310-win_amd64.whl (894 kB)\n",
      "     -------------------------------------- 894.0/894.0 kB 4.7 MB/s eta 0:00:00\n",
      "Requirement already satisfied: regex>=2022.1.18 in c:\\users\\comp\\anaconda3\\lib\\site-packages (from tiktoken) (2022.7.9)\n",
      "Requirement already satisfied: requests>=2.26.0 in c:\\users\\comp\\anaconda3\\lib\\site-packages (from tiktoken) (2.28.1)\n",
      "Requirement already satisfied: certifi>=2017.4.17 in c:\\users\\comp\\anaconda3\\lib\\site-packages (from requests>=2.26.0->tiktoken) (2024.7.4)\n",
      "Requirement already satisfied: urllib3<1.27,>=1.21.1 in c:\\users\\comp\\anaconda3\\lib\\site-packages (from requests>=2.26.0->tiktoken) (1.26.14)\n",
      "Requirement already satisfied: idna<4,>=2.5 in c:\\users\\comp\\anaconda3\\lib\\site-packages (from requests>=2.26.0->tiktoken) (2.10)\n",
      "Requirement already satisfied: charset-normalizer<3,>=2 in c:\\users\\comp\\anaconda3\\lib\\site-packages (from requests>=2.26.0->tiktoken) (2.0.4)\n",
      "Installing collected packages: tiktoken\n",
      "Successfully installed tiktoken-0.9.0\n"
     ]
    }
   ],
   "source": [
    "! pip3 install tiktoken"
   ]
  },
  {
   "cell_type": "code",
   "execution_count": 42,
   "metadata": {},
   "outputs": [],
   "source": [
    "import importlib\n",
    "import tiktoken\n",
    "\n"
   ]
  },
  {
   "cell_type": "code",
   "execution_count": 43,
   "metadata": {},
   "outputs": [],
   "source": [
    "tokenizer = tiktoken.get_encoding(\"gpt2\")"
   ]
  },
  {
   "cell_type": "code",
   "execution_count": 47,
   "metadata": {},
   "outputs": [
    {
     "name": "stdout",
     "output_type": "stream",
     "text": [
      "[15496, 11, 466, 345, 588, 8887, 30, 220, 50256, 554, 262, 4252, 18250, 8812, 2114, 286, 617, 34680, 27271, 13]\n"
     ]
    }
   ],
   "source": [
    "text = (\n",
    "    \"Hello, do you like tea? <|endoftext|> In the sunlit terraces\"\n",
    "     \" of snownPlaceomeunk.\"\n",
    ")\n",
    "\n",
    "integers = tokenizer.encode(text, allowed_special={\"<|endoftext|>\"})\n",
    "\n",
    "print(integers)"
   ]
  },
  {
   "cell_type": "code",
   "execution_count": 48,
   "metadata": {},
   "outputs": [
    {
     "name": "stdout",
     "output_type": "stream",
     "text": [
      "Hello, do you like tea? <|endoftext|> In the sunlit terraces of someunknownPlace.\n"
     ]
    }
   ],
   "source": [
    "strings = tokenizer.decode(integers)\n",
    "\n",
    "print(strings)"
   ]
  },
  {
   "cell_type": "code",
   "execution_count": 46,
   "metadata": {},
   "outputs": [
    {
     "name": "stdout",
     "output_type": "stream",
     "text": [
      "[33901, 86, 343, 86, 220, 959]\n",
      "Akwirw ier\n"
     ]
    }
   ],
   "source": [
    "integers = tokenizer.encode(\"Akwirw ier\")\n",
    "print(integers)\n",
    "\n",
    "strings = tokenizer.decode(integers)\n",
    "print(strings)"
   ]
  }
 ],
 "metadata": {
  "kernelspec": {
   "display_name": "base",
   "language": "python",
   "name": "python3"
  },
  "language_info": {
   "codemirror_mode": {
    "name": "ipython",
    "version": 3
   },
   "file_extension": ".py",
   "mimetype": "text/x-python",
   "name": "python",
   "nbconvert_exporter": "python",
   "pygments_lexer": "ipython3",
   "version": "3.10.9"
  }
 },
 "nbformat": 4,
 "nbformat_minor": 2
}
